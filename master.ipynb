{
 "cells": [
  {
   "attachments": {},
   "cell_type": "markdown",
   "metadata": {},
   "source": [
    "To formulate this problem as a linear programming problem, we need to define the decision variables, the objective function, and the constraints.\n",
    "\n",
    "Let's start by defining the decision variables. We need to decide how many units of t-shirts and jeans to produce in each production center. We can represent this decision with the following variables:\n",
    "\n",
    "x_1: number of t-shirts to produce in Beşiktaş\n",
    "\n",
    "x_2: number of jeans to produce in Beşiktaş\n",
    "\n",
    "x_3: number of t-shirts to produce in Davutpaşa\n",
    "\n",
    "x_4: number of jeans to produce in Davutpaşa\n",
    "\n",
    "Now we can define the objective function. The objective is to maximize the profit, which is equal to the total revenue from the sale of t-shirts and jeans. The total revenue is equal to the price per unit of each product multiplied by the number of units produced. Therefore, the objective function can be defined as:\n",
    "\n",
    "maximize 10x_1 + 15x_2 + 10x_3 + 15x_4\n",
    "\n",
    "The coefficient of each decision variable represents the contribution to the profit of producing one unit of the corresponding product.\n",
    "\n",
    "Finally, we need to define the constraints. The first constraint is that the total production in each center must not exceed the capacity of the cutting and sewing processes. We can represent this constraint as:\n",
    "\n",
    "x_1\\*[0][0][0] + x_2\\*[0][0][1] <= 80 (cutting capacity in Beşiktaş)\n",
    "\n",
    "x_1\\*[1][0][0] + x_2\\[1][0][1] <= 60 (sewing capacity in Beşiktaş)\n",
    "\n",
    "x_3\\*[0][1][0] + x_4\\*[0][1][1] <= 60 (cutting capacity in Davutpaşa)\n",
    "\n",
    "x_3\\*[1][1][0] + x_4\\*[1][1][1] <= 75 (sewing capacity in Davutpaşa)\n",
    "\n",
    "where the time it takes to cut and sew one unit of each product in each center is given in the table below:\n",
    "\n",
    "constraints[i][j][k]\n",
    "\n",
    "i: index of the row (0: Cutting, 1: Sewing)\n",
    "\n",
    "j: index of the column (0: Beşiktaş, 1: Davutpaşa)\n",
    "\n",
    "k: index of the element within the column (0: T-shirts, 1: Jeans)\n",
    "\n",
    "\n",
    "The second constraint is that the total demand for raw material must not exceed the available supply. We can represent this constraint as:\n",
    "\n",
    "4*(x_1 + x_2 + x_3 + x_4) <= 120 (cloth supply)\n",
    "\n",
    "Now that we have defined all the necessary components, we can use PuLP to solve this problem.\n",
    "\n",
    "Here is the code that sets up and solves the problem using CBC:"
   ]
  },
  {
   "cell_type": "code",
   "execution_count": 62,
   "metadata": {},
   "outputs": [],
   "source": [
    "import pandas as pd\n",
    "import numpy as np\n",
    "import scipy\n",
    "import pulp"
   ]
  },
  {
   "cell_type": "code",
   "execution_count": 63,
   "metadata": {},
   "outputs": [],
   "source": [
    "np.random.seed(21506050)"
   ]
  },
  {
   "cell_type": "code",
   "execution_count": 64,
   "metadata": {},
   "outputs": [
    {
     "name": "stdout",
     "output_type": "stream",
     "text": [
      "        Beşiktaş       Davutpaşa      \n",
      "        T-shirts Jeans  T-shirts Jeans\n",
      "Cutting       10     4         2     7\n",
      "Sewing         9    10         7     8\n"
     ]
    }
   ],
   "source": [
    "# Requirment of the production (proudction hour)\n",
    "RandomFtoD1 = np.round(np.random.uniform(low = 1, high = 10, size = 4),0).astype(int)\n",
    "RandomFtoD2 = np.reshape(RandomFtoD1, (2,2))\n",
    "BesiktasHour = pd.DataFrame(RandomFtoD2, columns=['T-shirts', 'Jeans'], \n",
    "                        index=[\"Cutting\", \"Sewing\"])\n",
    "BesiktasHour.columns=pd.MultiIndex.from_product([['Beşiktaş'],BesiktasHour.columns])\n",
    "\n",
    "# Shipment cost from distribution center to store\n",
    "RandomDtoS1 = np.round(np.random.uniform(low = 1, high = 10, size = 4),0).astype(int)\n",
    "RandomDtoS2 = np.reshape(RandomDtoS1, (2,2))\n",
    "DavutpasaHour = pd.DataFrame(RandomDtoS2, columns=['T-shirts', 'Jeans'], \n",
    "                        index=[\"Cutting\", \"Sewing\"])\n",
    "DavutpasaHour.columns=pd.MultiIndex.from_product([['Davutpaşa'],DavutpasaHour.columns])\n",
    "\n",
    "# Your Required Information About Production Hour\n",
    "production_hours = pd.concat([BesiktasHour, DavutpasaHour], axis=1)\n",
    "print(production_hours)"
   ]
  },
  {
   "cell_type": "code",
   "execution_count": 65,
   "metadata": {},
   "outputs": [],
   "source": [
    "# Extract the constraints from the production_hours dataframe\n",
    "constraints = []\n",
    "for i, row in enumerate(production_hours.iterrows()):\n",
    "    constraint = []\n",
    "    for j, col in enumerate(production_hours.columns):\n",
    "        if j % 2 == 0:\n",
    "            sub_constraint = []\n",
    "        sub_constraint.append(row[1][col])\n",
    "        if j % 2 == 1:\n",
    "            constraint.append(sub_constraint)\n",
    "    constraints.append(constraint)"
   ]
  },
  {
   "cell_type": "code",
   "execution_count": 66,
   "metadata": {},
   "outputs": [],
   "source": [
    "# Create the linear programming model\n",
    "model = pulp.LpProblem(\"Profit_Maximization\", pulp.LpMaximize)"
   ]
  },
  {
   "cell_type": "code",
   "execution_count": 67,
   "metadata": {},
   "outputs": [],
   "source": [
    "# Define the decision variables\n",
    "x_1 = pulp.LpVariable('x_1', lowBound=0, cat='Integer')\n",
    "x_2 = pulp.LpVariable('x_2', lowBound=0, cat='Integer')\n",
    "x_3 = pulp.LpVariable('x_3', lowBound=0, cat='Integer')\n",
    "x_4 = pulp.LpVariable('x_4', lowBound=0, cat='Integer')"
   ]
  },
  {
   "cell_type": "code",
   "execution_count": 68,
   "metadata": {},
   "outputs": [],
   "source": [
    "# Define the objective function\n",
    "model += 10*x_1 + 15*x_2 + 10*x_3 + 15*x_4"
   ]
  },
  {
   "cell_type": "code",
   "execution_count": 69,
   "metadata": {},
   "outputs": [],
   "source": [
    "# Define the constraints\n",
    "model += x_1*constraints[0][0][0] + x_2*constraints[0][0][1] <= 80\n",
    "model += x_1*constraints[1][0][0] + x_2*constraints[1][0][1] <= 60\n",
    "model += x_3*constraints[0][1][0] + x_4*constraints[0][1][1] <= 60\n",
    "model += x_3*constraints[1][1][0] + x_4*constraints[1][1][1] <= 75\n",
    "model += 4*(x_1 + x_2 + x_3 + x_4) <= 120"
   ]
  },
  {
   "cell_type": "code",
   "execution_count": 70,
   "metadata": {},
   "outputs": [],
   "source": [
    "# Solve the linear programming model using CBC\n",
    "feasible = model.solve(solver=pulp.COIN_CMD(msg=0))"
   ]
  },
  {
   "cell_type": "code",
   "execution_count": 71,
   "metadata": {},
   "outputs": [
    {
     "name": "stdout",
     "output_type": "stream",
     "text": [
      "Production Quantities:\n",
      "Jeans in Beşiktaş: 6.0\n",
      "Jeans in Davutpaşa: 8.0\n",
      "T-shirts in Beşiktaş: 0.0\n",
      "T-shirts in Davutpaşa: 1.0\n",
      "Total amount used:\n",
      "Cutting in Beşiktaş: 6.0\n",
      "Cutting in Davutpaşa: 9.0\n",
      "Sewing in Beşiktaş: 6.0\n",
      "Sewing in Davutpaşa: 9.0\n",
      "Cloths in Beşiktaş: 24.0\n",
      "Cloths in Davutpaşa: 36.0\n",
      "Total profit: 220.0\n"
     ]
    }
   ],
   "source": [
    "# Print the results\n",
    "if feasible == 1:\n",
    "    print(\"Production Quantities:\")\n",
    "    print(\"Jeans in Beşiktaş: {}\".format(x_2.value()))\n",
    "    print(\"Jeans in Davutpaşa: {}\".format(x_4.value()))\n",
    "    print(\"T-shirts in Beşiktaş: {}\".format(x_1.value()))\n",
    "    print(\"T-shirts in Davutpaşa: {}\".format(x_3.value()))\n",
    "    print(\"Total amount used:\")\n",
    "    print(\"Cutting in Beşiktaş: {}\".format(x_1.value() + x_2.value()))\n",
    "    print(\"Cutting in Davutpaşa: {}\".format(x_3.value() + x_4.value()))\n",
    "    print(\"Sewing in Beşiktaş: {}\".format(x_1.value() + x_2.value()))\n",
    "    print(\"Sewing in Davutpaşa: {}\".format(x_3.value() + x_4.value()))\n",
    "    print(\"Cloths in Beşiktaş: {}\".format(4*(x_1.value() + x_2.value())))\n",
    "    print(\"Cloths in Davutpaşa: {}\".format(4*(x_3.value() + x_4.value())))\n",
    "    print(\"Total profit: {}\".format(pulp.value(model.objective)))\n",
    "else:\n",
    "    print(\"No feasible solution found\")"
   ]
  }
 ],
 "metadata": {
  "kernelspec": {
   "display_name": "Python 3",
   "language": "python",
   "name": "python3"
  },
  "language_info": {
   "codemirror_mode": {
    "name": "ipython",
    "version": 3
   },
   "file_extension": ".py",
   "mimetype": "text/x-python",
   "name": "python",
   "nbconvert_exporter": "python",
   "pygments_lexer": "ipython3",
   "version": "3.10.9"
  },
  "orig_nbformat": 4,
  "vscode": {
   "interpreter": {
    "hash": "e7370f93d1d0cde622a1f8e1c04877d8463912d04d973331ad4851f04de6915a"
   }
  }
 },
 "nbformat": 4,
 "nbformat_minor": 2
}
